{
  "cells": [
    {
      "cell_type": "markdown",
      "metadata": {
        "id": "KxaQLsqY58xV"
      },
      "source": [
        "**Exercise 3 - Logistic regression**\n",
        "\n",
        "---\n",
        "\n",
        "This exercise will be about logistic regression. Given a set of data points and classes your task will be to implement the functions that calculate the model $\\theta$ parameters to fit the data and infer the class for each point set."
      ]
    },
    {
      "cell_type": "code",
      "execution_count": null,
      "metadata": {
        "vscode": {
          "languageId": "python"
        }
      },
      "outputs": [],
      "source": [
        "# import libraries used during this exercise\n",
        "# it may be necessary to uncomment the two following pip commands\n",
        "# !pip3 install pandas\n",
        "# !pip3 install matplotlib\n",
        "import pandas as pd\n",
        "import numpy as np\n",
        "from mlrcv.core import *\n",
        "%matplotlib notebook\n",
        "%matplotlib inline"
      ]
    },
    {
      "cell_type": "markdown",
      "metadata": {},
      "source": [
        "In this exercise we will use a toy dataset with $x_1$, $x_2$ and the $y$ (*class*) values, where the point ($x_1$,$x_2$) is the observed data that should be used to predict the $y$ class value."
      ]
    },
    {
      "cell_type": "code",
      "execution_count": null,
      "metadata": {
        "vscode": {
          "languageId": "python"
        }
      },
      "outputs": [],
      "source": [
        "# Dataset read\n",
        "df = pd.read_csv('data/logistic_regression.csv')\n",
        "x_bin = df.drop(columns=['class']).values\n",
        "y_bin = df['class'].values\n",
        "y_bin = y_bin[:, None]\n",
        "\n",
        "plot_data_binary(x_bin, y_bin)"
      ]
    },
    {
      "cell_type": "markdown",
      "metadata": {},
      "source": [
        "**3.1 Logistic regression \\[5\\]**\n",
        "\n",
        "---"
      ]
    },
    {
      "cell_type": "markdown",
      "metadata": {},
      "source": [
        "Given the loaded dataset $x=(x_1,x_2)$ and $y$, you should implement the functions in the *mlrcv/logistic_regression.py* and *mlrcv/utils.py* files to calculate the model $\\theta$ parameters vector that will fit the data. The following functions should be implemented in *utils.py* file:\n",
        "- *sigmoid*: the activation function used during training\n",
        "\n",
        "Then, you should implement the functions from the class *LogisticRegression*::\n",
        "- *train_model*: train the model\n",
        "- *first_derivative*: compute the gradients (derivatives) to update the $\\theta$ parameters\n",
        "- *predict_y*\n",
        "- *eval*\n",
        "\n",
        "(**Note:** The *plot_regression_binary* function is already implemented on the *core.py* file.)"
      ]
    },
    {
      "cell_type": "code",
      "execution_count": null,
      "metadata": {
        "vscode": {
          "languageId": "python"
        }
      },
      "outputs": [],
      "source": [
        "from mlrcv.logistic_regression import *\n",
        "from mlrcv.utils import *\n",
        "\n",
        "x_bin_train, y_bin_train, x_bin_val, y_bin_val = split_data(x_bin, y_bin)"
      ]
    },
    {
      "cell_type": "code",
      "execution_count": null,
      "metadata": {
        "vscode": {
          "languageId": "python"
        }
      },
      "outputs": [],
      "source": [
        "model = LogisticRegression(learning_rate=.000001, epochs=1)\n",
        "model.train_model(x_bin_train, y_bin_train)\n",
        "print('Model accuracy: %.2f' % model.eval(x_bin_val, y_bin_val))\n",
        "\n",
        "plot_regression_binary(x_bin_val, y_bin_val, model)"
      ]
    },
    {
      "cell_type": "markdown",
      "metadata": {},
      "source": [
        "Probably, with the pre-defined parameters *learning_rate=0.000001* and *epochs=1* you will not achieve the best performance (something around 70%-80% of accuracy only), and you may notice that the regression decision gradients (background color) and the regression lines will not be correctly fitted, with the same color all over the background. This represents a bad fitting by the model, since it cannot distinguish which region represents which class.\n",
        "\n",
        "Since this dataset is quite \"easy\", you should be able to get around 96% of accuracy by changing the *learning_rate* and *epochs* parameters. Play around with those two parameters and check the accuracy and the plots behavior, have fun!\n",
        "\n",
        "Based on your tests with the model parameters, with which *learning_rate* and *epochs* values your model achieves a good performance (well defined background gradients and regression line)?\n",
        "\n",
        "- *Answer here*\n"
      ]
    },
    {
      "cell_type": "markdown",
      "metadata": {},
      "source": [
        "**3.2 Multi-class logistic regression (Softmax regression) \\[5\\]**\n",
        "\n",
        "---"
      ]
    },
    {
      "cell_type": "markdown",
      "metadata": {},
      "source": [
        "In some cases our data may have more than two classes, for that we can represent the logistic regression as a multi-class formulation. In this second task you should implement the class *MultiClassLogisticRegression* to fit your model in this dataset with 3 classes."
      ]
    },
    {
      "cell_type": "code",
      "execution_count": null,
      "metadata": {
        "vscode": {
          "languageId": "python"
        }
      },
      "outputs": [],
      "source": [
        "# Dataset read\n",
        "df = pd.read_csv('data/logistic_regression_multi_class.csv')\n",
        "x_multi = df.drop(columns=['class']).values\n",
        "y_multi = pd.get_dummies(df['class']).values\n",
        "\n",
        "num_class = 3\n",
        "\n",
        "plot_data_multi_class(x_multi, y_multi)\n",
        "\n",
        "# implemented, already split our data here\n",
        "x_multi_train, y_multi_train, x_multi_val, y_multi_val = split_data(x_multi, y_multi)"
      ]
    },
    {
      "cell_type": "markdown",
      "metadata": {},
      "source": [
        "As in the previous tasks, you should implement the four functions inside the *MultiClassLogisticRegression* class, but now for the multi-class case:\n",
        "- *train_model*: train the model\n",
        "- *first_derivative*: compute the gradients (derivatives) to update the $\\theta$ parameters\n",
        "- *predict_y*\n",
        "- *eval*\n",
        "\n",
        "And in this case, implement the *softmax* function as well. (**Note:** The *plot_regression_multi_class* function is already implemented.)"
      ]
    },
    {
      "cell_type": "code",
      "execution_count": null,
      "metadata": {
        "vscode": {
          "languageId": "python"
        }
      },
      "outputs": [],
      "source": [
        "from mlrcv.logistic_regression import *\n",
        "from mlrcv.utils import *\n",
        "\n",
        "model = MultiClassLogisticRegression(learning_rate=.000001, epochs=1)\n",
        "model.train_model(x_multi_train, y_multi_train)\n",
        "print('Model acc: ', model.eval(x_multi_val, y_multi_val))\n",
        "\n",
        "plot_regression_multi_class(x_multi_val, y_multi_val, model)"
      ]
    },
    {
      "cell_type": "markdown",
      "metadata": {},
      "source": [
        "As in the logistic regression case, with the pre-defined parameters *learning_rate=0.000001* and *epochs=1* your model should have a poor performance. In that case the background plot will be gray, since the model cannot properly define the boundary regions. Again, in this task you should change them to achieve around 96% accuracy with your model, and see a well defined decision regions for each class. Play again with the parameters and check the changes on the accuracy and plots.\n",
        "\n",
        "Based on your tests with the model parameters, with which *learning_rate* and *epochs* values you model achieves a good performance (well defined background gradients and regression lines)?\n",
        "\n",
        "- *Answer here*"
      ]
    },
    {
      "cell_type": "markdown",
      "metadata": {},
      "source": [
        "**Assignment Submission**\n",
        "\n",
        "---"
      ]
    },
    {
      "cell_type": "markdown",
      "metadata": {},
      "source": [
        "You should zip and submit the ```ex3_logistic_regression.ipynb``` file together with all the ```.py``` files inside the ```mlrcv/``` directory.\n",
        "\n",
        "You can automatically generate the submission file using the provided ```zip_submission.sh``` script by running:\n",
        "\n",
        "```\n",
        "bash zip_submission.sh\n",
        "```\n",
        "\n",
        "This will zip the necessary files for your submission and generate the ```ex3_mlrcv_submission.zip``` file to be submit via ecampus."
      ]
    }
  ],
  "metadata": {
    "colab": {
      "name": "warmup_exercises.ipynb",
      "provenance": []
    },
    "kernelspec": {
      "display_name": "Python 3",
      "language": "python",
      "name": "python3"
    },
    "language_info": {
      "codemirror_mode": {
        "name": "ipython",
        "version": 3
      },
      "file_extension": ".py",
      "mimetype": "text/x-python",
      "name": "python",
      "nbconvert_exporter": "python",
      "pygments_lexer": "ipython3",
      "version": "3.8.10"
    }
  },
  "nbformat": 4,
  "nbformat_minor": 0
}

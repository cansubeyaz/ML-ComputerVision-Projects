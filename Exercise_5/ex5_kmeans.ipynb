{
  "cells": [
    {
      "cell_type": "markdown",
      "metadata": {
        "id": "KxaQLsqY58xV"
      },
      "source": [
        "**Exercise 5 - Clustering**\n",
        "\n",
        "---\n",
        "\n",
        "In this exercise you will implement the KMeans clustering algorithm. The KMeans algorithm gather closer samples together by defining clusters. The idea is to find the K cluster centers which better divide the data. In this exercise you should implement the KMeans algorithm with random initialization. Then, implement the KMeans++ initialization method, which defines better initial cluster centers, to help achieving a better and quickier convergence."
      ]
    },
    {
      "cell_type": "code",
      "execution_count": null,
      "metadata": {},
      "outputs": [],
      "source": [
        "# import libraries used during this exercise\n",
        "# it may be necessary to uncomment the two following pip commands\n",
        "#!pip3 install pandas\n",
        "#!pip3 install matplotlib\n",
        "import numpy as np\n",
        "import pandas as pd\n",
        "import matplotlib.pyplot as plt\n",
        "# the core.py file contains the plottings and other pre-defined functions please, do NOT change them.\n",
        "from mlrcv.core import *\n",
        "%matplotlib notebook\n",
        "%matplotlib inline"
      ]
    },
    {
      "cell_type": "markdown",
      "metadata": {},
      "source": [
        "In this exercise we will use a dataset with $x_1$, $x_2$ values where it's possible to notice that the points accumulates over some regions. This suggests that using a clustering algorithm (KMeans) it would be possible to divide the data, defining clusters that can separate the data points into distinct classes."
      ]
    },
    {
      "cell_type": "code",
      "execution_count": null,
      "metadata": {},
      "outputs": [],
      "source": [
        "# Dataset read\n",
        "df = pd.read_csv('data/kmeanspp.csv')\n",
        "x = df.values\n",
        "plot_dataset(x)"
      ]
    },
    {
      "cell_type": "markdown",
      "metadata": {},
      "source": [
        "**5.1 KMeans \\[6\\]**\n",
        "\n",
        "---"
      ]
    },
    {
      "cell_type": "markdown",
      "metadata": {},
      "source": [
        "Given the loaded dataset $x_1,x_2$ you should implement the class functions in the *kmeans.py* file to find the K-clusters. You can test different values for *k_clusters* to check the algorithm behavior. In this first task the following functions should be implemented:\n",
        "\n",
        "**KMeans class:**\n",
        "- *euclidean_distance*: calculate the euclidean distance between the $x$ samples and the K-centers\n",
        "- *init_random_centers*: randomly initialize the K-centers\n",
        "- *fit*: use the input data $x$ to find the K-centers to divide the data\n",
        "- *predict_c*: predict $c_{pred}$ clusters from input $x$\n",
        "\n",
        "(**Note:** on the *kmeans.py* you can use this function call *plot_clusters(x, self)* to plot the clusters during the data fit, so you can follow the clusters centers convergence)\n"
      ]
    },
    {
      "cell_type": "code",
      "execution_count": null,
      "metadata": {
        "tags": []
      },
      "outputs": [],
      "source": [
        "from mlrcv.kmeans import *\n",
        "\n",
        "# KMeans with random initialization\n",
        "kmeans = KMeans(k_clusters=3, init_method='rand')\n",
        "kmeans.fit(x)\n",
        "\n",
        "plot_clusters(x, kmeans)"
      ]
    },
    {
      "cell_type": "markdown",
      "metadata": {},
      "source": [
        "After some iterations your algorithm should be able to divide the data in K diferent clusters. With *k_cluster=3* you should see a reasonable division of the data, with the centers (yellow stars) right on the middle of the clusters.\n",
        "\n",
        "However, depending on your data and the random centers initialization the final clusters may not properly divide the data. This happens because, depending on the initial clusters position, the algorithm could converge to a local solution. To enforce this \"bad\" initialization, below we use a fixed center initialization to show one case of bad random initialization."
      ]
    },
    {
      "cell_type": "code",
      "execution_count": null,
      "metadata": {},
      "outputs": [],
      "source": [
        "from mlrcv.kmeans import *\n",
        "\n",
        "# KMeans with a specific example of failing with random initialization\n",
        "kmeans = KMeans(k_clusters=3, init_method='fixed')\n",
        "kmeans.fit(x)\n",
        "\n",
        "plot_clusters(x, kmeans)"
      ]
    },
    {
      "cell_type": "markdown",
      "metadata": {},
      "source": [
        "Clearly there is a better clusterization to divide this data, however the algorithm converge to a solution before arriving at this better solution. To solve that, we can use KMeans++ where instead of random initializing the cluster centers we sample fairly spread points around the data as the centers. This guarantee a better initialization of the cluster centers, arriving at better final clusterization."
      ]
    },
    {
      "cell_type": "markdown",
      "metadata": {},
      "source": [
        "**5.2 KMeans++ \\[4\\]**\n",
        "\n",
        "---"
      ]
    },
    {
      "cell_type": "markdown",
      "metadata": {},
      "source": [
        "In this second task you should implement the last missing function on the **KMeans** class, the *init_centers_kpp* method. The KMeans++ is an extension of the original KMeans algorithm, the difference is that the centers are not randomly initialized, a first random center is picked from the data, then, the following centers are picked using the distances between the selected centers to the other data samples as a probability distribution. This guarantee a more spread cluster centers, which should avoid overlapping clusters and a better initial guess for the clusters centers."
      ]
    },
    {
      "cell_type": "code",
      "execution_count": null,
      "metadata": {},
      "outputs": [],
      "source": [
        "from mlrcv.kmeans import *\n",
        "\n",
        "kmeans = KMeans(k_clusters=3, init_method='k++')\n",
        "kmeans.fit(x)\n",
        "\n",
        "plot_clusters(x, kmeans)"
      ]
    },
    {
      "cell_type": "markdown",
      "metadata": {},
      "source": [
        "By using the KMeans++ initialization you should notice better distributed/spread initial cluster centers. This better spreading help the algorithm to converge faster and find better clusters, since the centers would already start in a position which could divide better the data. The advantage of KMeans++ is to find better initial cluster distributions, avoiding possible local solutions brought by the random initialization."
      ]
    },
    {
      "cell_type": "markdown",
      "metadata": {},
      "source": [
        "**Assignment Submission**\n",
        "\n",
        "---"
      ]
    },
    {
      "cell_type": "markdown",
      "metadata": {},
      "source": [
        "You should zip and submit the ```ex5_kmeans.ipynb``` file together with all the ```.py``` files inside the ```mlrcv/``` directory.\n",
        "\n",
        "You can automatically generate the submission file using the provided ```zip_submission.sh``` script by running:\n",
        "\n",
        "```\n",
        "bash zip_submission.sh\n",
        "```\n",
        "\n",
        "This will zip the necessary files for your submission and generate the ```ex5_mlrcv_submission.zip``` file to be submit via ecampus."
      ]
    }
  ],
  "metadata": {
    "colab": {
      "name": "warmup_exercises.ipynb",
      "provenance": []
    },
    "interpreter": {
      "hash": "916dbcbb3f70747c44a77c7bcd40155683ae19c65e1c03b4aa3499c5328201f1"
    },
    "kernelspec": {
      "display_name": "Python 3.8.5 64-bit",
      "language": "python",
      "name": "python3"
    },
    "language_info": {
      "codemirror_mode": {
        "name": "ipython",
        "version": 3
      },
      "file_extension": ".py",
      "mimetype": "text/x-python",
      "name": "python",
      "nbconvert_exporter": "python",
      "pygments_lexer": "ipython3",
      "version": "3.8.10"
    },
    "metadata": {
      "interpreter": {
        "hash": "916dbcbb3f70747c44a77c7bcd40155683ae19c65e1c03b4aa3499c5328201f1"
      }
    }
  },
  "nbformat": 4,
  "nbformat_minor": 0
}

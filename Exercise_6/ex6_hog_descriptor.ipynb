{
 "cells": [
  {
   "cell_type": "markdown",
   "metadata": {},
   "source": [
    "**Exercise 6 - Hog Descriptor**\n",
    "\n",
    "---\n",
    "\n",
    "In this exercise you will implement the hog descriptor and use it for person detection/classification. Hog descriptor was widely used before for person detection, by extracting the features from the image and using a classifier to classify the image as a person or not. In this assignment you will implement the Hog Descriptor, and will be able to use your implementation to train a person classifier in a small dataset."
   ]
  },
  {
   "cell_type": "code",
   "execution_count": null,
   "metadata": {},
   "outputs": [],
   "source": [
    "# import libraries used during this exercise\n",
    "# it may be necessary to uncomment the two following pip commands\n",
    "#!pip3 install opencv-python\n",
    "import cv2\n",
    "import numpy as np\n",
    "import pandas as pd\n",
    "import matplotlib.pyplot as plt\n",
    "# the core.py file contains the plottings and other pre-defined functions\n",
    "from mlrcv.core import *\n",
    "%matplotlib notebook\n",
    "%matplotlib inline"
   ]
  },
  {
   "cell_type": "markdown",
   "metadata": {},
   "source": [
    "In this assignment we will be using a small dataset with person and non-person images. You can take a look on the images in `data/person` and `data/non_person` directory."
   ]
  },
  {
   "cell_type": "code",
   "execution_count": null,
   "metadata": {},
   "outputs": [],
   "source": [
    "# Load images and divide into train and validation data\n",
    "(train_data, train_labels), (val_data, val_labels) = load_data('./data')\n",
    "\n",
    "img = load_image('./data/cat.jpg')\n",
    "plt.imshow(img, cmap='gray')"
   ]
  },
  {
   "cell_type": "markdown",
   "metadata": {},
   "source": [
    "**6.1 Magnitude image \\[5\\]**\n",
    "\n",
    "---"
   ]
  },
  {
   "cell_type": "markdown",
   "metadata": {},
   "source": [
    "Given an image $I$ your fist task will be to implement a function to compute the magnitude or the gradients from this image. This function should iterate over each pixel of the image and calculate the gradients $Gx_{ij}$ and $Gy_{ij}$ for each pixel $P_{ij}$, where $Gx_{ij} = P_{i{j+1}} - P_{i{j-1}}$ and $Gy_{ij} = P_{{i+1}j} - P_{{i-1}j}$, then compute the magnitude $M_{ij} = \\sqrt{Gx_{ij}^2 + Gy_{ij}^2}$. You will have to implement the function *compute_magnitude* in `mlrcv/hog_descriptor.py`."
   ]
  },
  {
   "cell_type": "code",
   "execution_count": null,
   "metadata": {},
   "outputs": [],
   "source": [
    "from mlrcv.hog_descriptor import compute_magnitude\n",
    "from mlrcv.core import CHECK, plot_compare\n",
    "\n",
    "mag_check = compute_magnitude(CHECK)\n",
    "\n",
    "plot_compare(mag_check, 'magnitude')"
   ]
  },
  {
   "cell_type": "markdown",
   "metadata": {},
   "source": [
    "If you implementation worked you should be able to see that most of the image is black except for the diagonal neighboring pixels (you can compare with the expected output in the right image). And you can check below the actual gradients for the example image that we used before."
   ]
  },
  {
   "cell_type": "code",
   "execution_count": null,
   "metadata": {},
   "outputs": [],
   "source": [
    "magnitude = compute_magnitude(img)\n",
    "img_mag = np.concatenate((img, magnitude), axis=1)\n",
    "plt.imshow(img_mag, cmap='gray')"
   ]
  },
  {
   "cell_type": "markdown",
   "metadata": {},
   "source": [
    "**6.2 Angle image \\[5\\]**\n",
    "\n",
    "---"
   ]
  },
  {
   "cell_type": "markdown",
   "metadata": {},
   "source": [
    "In this task you will need to compute the angles for each pixel using again the gradients computed above. Given the gradients $Gx_{ij}$ and $Gy_{ij}$ you whould compute the angle $\\theta_{ij} = tan^{-1}(\\frac{Gy_{ij}}{Gx_{ij}})$. Therefore, the *compute_angle* function will similar to the *compute_magnitude* function, by first computing the gradients and then using it to compute the angle. You should implement the *compute_angle* function in `mlrcv/hog_descriptor.py`."
   ]
  },
  {
   "cell_type": "code",
   "execution_count": null,
   "metadata": {},
   "outputs": [],
   "source": [
    "from mlrcv.hog_descriptor import compute_angle\n",
    "from mlrcv.core import CHECK\n",
    "\n",
    "ang_check = compute_angle(CHECK)\n",
    "\n",
    "plot_compare(ang_check, 'angle')"
   ]
  },
  {
   "cell_type": "markdown",
   "metadata": {},
   "source": [
    "If you implementation worked you should be able again to see that most of the image is black except for the diagonal neighboring pixels, where the neighbor pixels above the diagonal are white and the ones below are gray (you can compare with the expected output in the right image). And you can check below the actual angles for the example image that we used before."
   ]
  },
  {
   "cell_type": "code",
   "execution_count": null,
   "metadata": {},
   "outputs": [],
   "source": [
    "angle = compute_angle(img)\n",
    "img_ang = np.concatenate((img, angle), axis=1)\n",
    "plt.imshow(img_ang, cmap='gray')"
   ]
  },
  {
   "cell_type": "markdown",
   "metadata": {},
   "source": [
    "**6.3 Compute histograms \\[8\\]**\n",
    "\n",
    "---"
   ]
  },
  {
   "cell_type": "markdown",
   "metadata": {},
   "source": [
    "After computing the magnitudes and angles from the images, the next task is to compute the histograms from the images to generate the hog descriptor. First, we split the angle and magnitude images into cells of $8x8$ pixels where each cell will have the correspondent pixels."
   ]
  },
  {
   "cell_type": "code",
   "execution_count": null,
   "metadata": {},
   "outputs": [],
   "source": [
    "from mlrcv.hog_descriptor import img_to_cell\n",
    "from mlrcv.core import CHECK\n",
    "\n",
    "mag_check = compute_magnitude(CHECK)\n",
    "ang_check = compute_angle(CHECK)\n",
    "\n",
    "mag_cells = img_to_cell(mag_check)\n",
    "ang_cells = img_to_cell(ang_check)"
   ]
  },
  {
   "cell_type": "markdown",
   "metadata": {},
   "source": [
    "The code above will split the *CHECK_CELL* matrix into a grid with $8x8$ pixels in each cell of the grid. For each cell you should compute an histogram using the angle and the magnitude information.\n",
    "\n",
    "- For each cell $C_{kl}$:\n",
    "    - Create an histogram $H_{kl}$ with $9$ bins dividing the angles between $0^\\circ$ and $180^\\circ$ (an interval of $20^\\circ$ between each bin)\n",
    "    - For each pixel $P_{ij}$ in the cell $C_{kl}$:\n",
    "        - Check the pixel angle $\\theta_{ij}$ and calculate correspondent histogram bin $b_\\theta$\n",
    "        - Sum the pixel magnitude $M_{ij}$ to the bin $b_\\theta$ in the histogram\n",
    "\n",
    "You should implement the histogram calculation as described above in the *create_cell_histograms* function in `mlrcv/hog_descriptor.py` (*build_hog_image* is already implemented)."
   ]
  },
  {
   "cell_type": "code",
   "execution_count": null,
   "metadata": {},
   "outputs": [],
   "source": [
    "from mlrcv.hog_descriptor import create_cell_histograms, build_hog_image\n",
    "\n",
    "hist_cells = create_cell_histograms(mag_cells, ang_cells)\n",
    "\n",
    "hog_img = np.zeros((CHECK.shape[0], CHECK.shape[0]))\n",
    "hog_img = build_hog_image(hog_img, hist_cells)\n",
    "\n",
    "plot_compare(hog_img, 'hog')"
   ]
  },
  {
   "cell_type": "markdown",
   "metadata": {},
   "source": [
    "If you have implemented it right you should be able to run the *build_hog_img* function which would generate *Xs* in the diagonals (you can compare with the expected output in the right image). Next, you can also check the hog descriptor over the example image and see the output result."
   ]
  },
  {
   "cell_type": "code",
   "execution_count": null,
   "metadata": {},
   "outputs": [],
   "source": [
    "mag_cells = img_to_cell(magnitude)\n",
    "ang_cells = img_to_cell(angle)\n",
    "\n",
    "hist_cells = create_cell_histograms(mag_cells, ang_cells)\n",
    "hog_img = np.zeros((img.shape[0], img.shape[1]))\n",
    "hog_img = build_hog_image(hog_img, hist_cells)\n",
    "\n",
    "img_hog = np.concatenate((img, hog_img), axis=1)\n",
    "plt.imshow(img_hog, cmap='gray')"
   ]
  },
  {
   "cell_type": "markdown",
   "metadata": {},
   "source": [
    "**Training a classifier \\[2\\]**\n",
    "\n",
    "---"
   ]
  },
  {
   "cell_type": "markdown",
   "metadata": {},
   "source": [
    "Now that you are to compute the descriptor for the images, the last task is to add this to a training pipeline and train a classifier to receive the descriptor and classify if the input is or not a person. You should implement the *dataloader* function in `mlrcv/hog_descriptor.py` to:\n",
    "\n",
    "- Load the image\n",
    "- Compute the magnitudes and angles\n",
    "- Divide the image into the $8x8$ cells\n",
    "- Compute the histograms\n",
    "- Generate the hog features\n",
    "\n",
    "This function should summarize all the steps that you have implemented so far to generate the hog image, but doing it for all the images in the train and validation sets."
   ]
  },
  {
   "cell_type": "code",
   "execution_count": null,
   "metadata": {},
   "outputs": [],
   "source": [
    "from mlrcv.hog_descriptor import dataloader\n",
    "\n",
    "train_feats = dataloader(train_data)\n",
    "val_feats = dataloader(val_data)\n",
    "\n",
    "classifier = train_classifier(train_feats, train_labels)\n",
    "eval_classifier(classifier, val_feats, val_labels)\n",
    "\n"
   ]
  },
  {
   "cell_type": "markdown",
   "metadata": {},
   "source": [
    "If you have implemented right you should get an accuracy around $70\\%$ which is a good result given the small dataset that we are working with. Besides, in `data/hog` you should be able to see the hog descriptor images for each one of the images on both training and validation set."
   ]
  },
  {
   "cell_type": "markdown",
   "metadata": {},
   "source": [
    "**Assignment Submission**\n",
    "\n",
    "---"
   ]
  },
  {
   "cell_type": "markdown",
   "metadata": {},
   "source": [
    "You should zip and submit the ```ex6_hog_descriptor.ipynb``` file together with all the ```.py``` files inside the ```mlrcv/``` directory.\n",
    "\n",
    "You can automatically generate the submission file using the provided ```zip_submission.sh``` script by running:\n",
    "\n",
    "```\n",
    "bash zip_submission.sh\n",
    "```\n",
    "\n",
    "This will zip the necessary files for your submission and generate the ```ex6_mlrcv_submission.zip``` file to be submit via ecampus."
   ]
  }
 ],
 "metadata": {
  "interpreter": {
   "hash": "916dbcbb3f70747c44a77c7bcd40155683ae19c65e1c03b4aa3499c5328201f1"
  },
  "kernelspec": {
   "display_name": "Python 3.8.10 64-bit",
   "language": "python",
   "name": "python3"
  },
  "language_info": {
   "codemirror_mode": {
    "name": "ipython",
    "version": 3
   },
   "file_extension": ".py",
   "mimetype": "text/x-python",
   "name": "python",
   "nbconvert_exporter": "python",
   "pygments_lexer": "ipython3",
   "version": "3.8.10"
  },
  "orig_nbformat": 4
 },
 "nbformat": 4,
 "nbformat_minor": 2
}
